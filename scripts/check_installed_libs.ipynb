{
 "cells": [
  {
   "cell_type": "code",
   "execution_count": 1,
   "id": "3b76e454-3195-41a3-ad07-5b7939c91229",
   "metadata": {},
   "outputs": [
    {
     "data": {
      "text/plain": [
       "'1.26.3'"
      ]
     },
     "execution_count": 1,
     "metadata": {},
     "output_type": "execute_result"
    }
   ],
   "source": [
    "import numpy as np\n",
    "\n",
    "np.__version__"
   ]
  },
  {
   "cell_type": "code",
   "execution_count": 2,
   "id": "7b877594-15f9-4a06-acf7-b388b9a14e32",
   "metadata": {},
   "outputs": [
    {
     "data": {
      "text/plain": [
       "'2.2.0'"
      ]
     },
     "execution_count": 2,
     "metadata": {},
     "output_type": "execute_result"
    }
   ],
   "source": [
    "import pandas as pd\n",
    "\n",
    "pd.__version__"
   ]
  },
  {
   "cell_type": "code",
   "execution_count": 3,
   "id": "3b42ef3a-fcc5-43d4-a671-aaca584c56ae",
   "metadata": {},
   "outputs": [
    {
     "data": {
      "text/plain": [
       "'0.20.5'"
      ]
     },
     "execution_count": 3,
     "metadata": {},
     "output_type": "execute_result"
    }
   ],
   "source": [
    "import polars as pl\n",
    "\n",
    "pl.__version__"
   ]
  },
  {
   "cell_type": "code",
   "execution_count": 4,
   "id": "a63f8dec-fcf9-4641-a3fb-3f3228ca14bb",
   "metadata": {},
   "outputs": [
    {
     "data": {
      "text/plain": [
       "'1.12.0'"
      ]
     },
     "execution_count": 4,
     "metadata": {},
     "output_type": "execute_result"
    }
   ],
   "source": [
    "import scipy\n",
    "\n",
    "scipy.__version__"
   ]
  },
  {
   "cell_type": "code",
   "execution_count": 5,
   "id": "e00f5d07-66dd-427f-bb30-62796a6a8515",
   "metadata": {},
   "outputs": [
    {
     "data": {
      "text/plain": [
       "'0.14.1'"
      ]
     },
     "execution_count": 5,
     "metadata": {},
     "output_type": "execute_result"
    }
   ],
   "source": [
    "import statsmodels\n",
    "\n",
    "statsmodels.__version__"
   ]
  },
  {
   "cell_type": "code",
   "execution_count": 6,
   "id": "0e215752-8162-44c7-b0a5-f20ad1510490",
   "metadata": {},
   "outputs": [
    {
     "data": {
      "text/plain": [
       "'3.8.2'"
      ]
     },
     "execution_count": 6,
     "metadata": {},
     "output_type": "execute_result"
    }
   ],
   "source": [
    "import matplotlib\n",
    "\n",
    "%matplotlib inline\n",
    "\n",
    "matplotlib.__version__"
   ]
  },
  {
   "cell_type": "code",
   "execution_count": 7,
   "id": "49aeb209-ac82-4480-be25-f2a420e9b458",
   "metadata": {},
   "outputs": [
    {
     "data": {
      "text/plain": [
       "'0.11.2'"
      ]
     },
     "execution_count": 7,
     "metadata": {},
     "output_type": "execute_result"
    }
   ],
   "source": [
    "import seaborn as sns\n",
    "\n",
    "sns.__version__"
   ]
  },
  {
   "cell_type": "code",
   "execution_count": 8,
   "id": "5240df9c-36ef-4050-9333-eada75c99755",
   "metadata": {},
   "outputs": [
    {
     "data": {
      "text/plain": [
       "'0.5.0'"
      ]
     },
     "execution_count": 8,
     "metadata": {},
     "output_type": "execute_result"
    }
   ],
   "source": [
    "import statannotations\n",
    "\n",
    "statannotations.__version__"
   ]
  },
  {
   "cell_type": "code",
   "execution_count": 9,
   "id": "266cdc28-5260-45c4-a983-d2fb5152607d",
   "metadata": {},
   "outputs": [
    {
     "data": {
      "text/plain": [
       "'2.31.0'"
      ]
     },
     "execution_count": 9,
     "metadata": {},
     "output_type": "execute_result"
    }
   ],
   "source": [
    "import requests\n",
    "\n",
    "requests.__version__"
   ]
  },
  {
   "cell_type": "code",
   "execution_count": 10,
   "id": "e1fd78a6-c309-419f-9470-efad3fd63f1e",
   "metadata": {},
   "outputs": [
    {
     "data": {
      "text/plain": [
       "'1.4.0'"
      ]
     },
     "execution_count": 10,
     "metadata": {},
     "output_type": "execute_result"
    }
   ],
   "source": [
    "import sklearn\n",
    "\n",
    "sklearn.__version__"
   ]
  },
  {
   "cell_type": "code",
   "execution_count": 11,
   "id": "ff81abb6-224c-4fe8-8a6d-730b23039640",
   "metadata": {},
   "outputs": [
    {
     "data": {
      "text/plain": [
       "'3.1.2'"
      ]
     },
     "execution_count": 11,
     "metadata": {},
     "output_type": "execute_result"
    }
   ],
   "source": [
    "import openpyxl\n",
    "\n",
    "openpyxl.__version__"
   ]
  },
  {
   "cell_type": "code",
   "execution_count": 12,
   "id": "1f8ca1b2-b0b1-4b53-b05a-979835f2b88e",
   "metadata": {},
   "outputs": [
    {
     "data": {
      "text/plain": [
       "'2023.09.4'"
      ]
     },
     "execution_count": 12,
     "metadata": {},
     "output_type": "execute_result"
    }
   ],
   "source": [
    "import rdkit\n",
    "\n",
    "rdkit.__version__"
   ]
  },
  {
   "cell_type": "code",
   "execution_count": 13,
   "id": "badc40e2-25eb-4535-9a9f-eea77dbe053f",
   "metadata": {},
   "outputs": [
    {
     "data": {
      "text/plain": [
       "'1.83'"
      ]
     },
     "execution_count": 13,
     "metadata": {},
     "output_type": "execute_result"
    }
   ],
   "source": [
    "import Bio\n",
    "\n",
    "Bio.__version__"
   ]
  },
  {
   "cell_type": "code",
   "execution_count": 14,
   "id": "c6ae35ef-e8e7-4cae-8de8-d37673555b62",
   "metadata": {},
   "outputs": [
    {
     "data": {
      "text/plain": [
       "'0.10.4'"
      ]
     },
     "execution_count": 14,
     "metadata": {},
     "output_type": "execute_result"
    }
   ],
   "source": [
    "import anndata as ad\n",
    "\n",
    "ad.__version__"
   ]
  },
  {
   "cell_type": "code",
   "execution_count": 15,
   "id": "ab8a507d-e57a-4b39-9540-eafb87d3ecd8",
   "metadata": {},
   "outputs": [
    {
     "data": {
      "text/plain": [
       "'1.9.6'"
      ]
     },
     "execution_count": 15,
     "metadata": {},
     "output_type": "execute_result"
    }
   ],
   "source": [
    "import scanpy as sc\n",
    "\n",
    "sc.__version__"
   ]
  },
  {
   "cell_type": "code",
   "execution_count": 16,
   "id": "ba5541a1-49fa-4e9a-bced-9a0438eb0616",
   "metadata": {},
   "outputs": [
    {
     "name": "stdout",
     "output_type": "stream",
     "text": [
      "running test\n",
      "WARNING: Testing via this command is deprecated and will be removed in a future version. Users looking for a generic test entry point independent of test runner are encouraged to use tox.\n",
      "/opt/conda/envs/mfa/lib/python3.9/site-packages/setuptools/command/test.py:193: _DeprecatedInstaller: setuptools.installer and fetch_build_eggs are deprecated.\n",
      "!!\n",
      "\n",
      "        ********************************************************************************\n",
      "        Requirements should be satisfied by a PEP 517 installer.\n",
      "        If you are using pip, you can try `pip install --use-pep517`.\n",
      "        ********************************************************************************\n",
      "\n",
      "!!\n",
      "  ir_d = dist.fetch_build_eggs(dist.install_requires)\n",
      "/opt/conda/envs/mfa/lib/python3.9/site-packages/setuptools/command/test.py:194: _DeprecatedInstaller: setuptools.installer and fetch_build_eggs are deprecated.\n",
      "!!\n",
      "\n",
      "        ********************************************************************************\n",
      "        Requirements should be satisfied by a PEP 517 installer.\n",
      "        If you are using pip, you can try `pip install --use-pep517`.\n",
      "        ********************************************************************************\n",
      "\n",
      "!!\n",
      "  tr_d = dist.fetch_build_eggs(dist.tests_require or [])\n",
      "/opt/conda/envs/mfa/lib/python3.9/site-packages/setuptools/command/test.py:195: _DeprecatedInstaller: setuptools.installer and fetch_build_eggs are deprecated.\n",
      "!!\n",
      "\n",
      "        ********************************************************************************\n",
      "        Requirements should be satisfied by a PEP 517 installer.\n",
      "        If you are using pip, you can try `pip install --use-pep517`.\n",
      "        ********************************************************************************\n",
      "\n",
      "!!\n",
      "  er_d = dist.fetch_build_eggs(\n",
      "running egg_info\n",
      "writing mfapy.egg-info/PKG-INFO\n",
      "writing dependency_links to mfapy.egg-info/dependency_links.txt\n",
      "writing requirements to mfapy.egg-info/requires.txt\n",
      "writing top-level names to mfapy.egg-info/top_level.txt\n",
      "file metabolicmodel.py (for module metabolicmodel) not found\n",
      "file carbonsource.py (for module carbonsource) not found\n",
      "file mfapyio.py (for module mfapyio) not found\n",
      "file mdv.py (for module mdv) not found\n",
      "file optimize.py (for module optimize) not found\n",
      "reading manifest file 'mfapy.egg-info/SOURCES.txt'\n",
      "reading manifest template 'MANIFEST.in'\n",
      "warning: no files found matching 'README.txt'\n",
      "adding license file 'LICENSE'\n",
      "writing manifest file 'mfapy.egg-info/SOURCES.txt'\n",
      "running build_ext\n",
      "test_calc_rss (tests.test_metabolicmodel.Testmfapy) ... ok\n",
      "test_calmdv (tests.test_metabolicmodel.Testmfapy) ... ok\n",
      "test_fitting_flux (tests.test_metabolicmodel.Testmfapy) ... ok\n",
      "test_generate_initial_states (tests.test_metabolicmodel.Testmfapy) ... ok\n",
      "test_generate_state (tests.test_metabolicmodel.Testmfapy) ... ok\n",
      "test_get_degree_of_freedom (tests.test_metabolicmodel.Testmfapy) ... ok\n",
      "test_get_number_of_independent_measurements (tests.test_metabolicmodel.Testmfapy) ... ok\n",
      "test_get_thres_confidence_interval (tests.test_metabolicmodel.Testmfapy) ... ok\n",
      "test_goodness_of_fit (tests.test_metabolicmodel.Testmfapy) ... ok\n",
      "test_load_metabolic_model_construction (tests.test_metabolicmodel.Testmfapy) ... ok\n",
      "test_load_states (tests.test_metabolicmodel.Testmfapy) ... ok\n",
      "test_matrix_inv (tests.test_metabolicmodel.Testmfapy) ... ok\n",
      "test_set_boundary (tests.test_metabolicmodel.Testmfapy) ... ok\n",
      "test_set_configuration (tests.test_metabolicmodel.Testmfapy) ... ok\n",
      "test_set_constrain (tests.test_metabolicmodel.Testmfapy) ... ok\n",
      "test_set_constraints_from_state_dict (tests.test_metabolicmodel.Testmfapy) ... ok\n",
      "test_set_experiment (tests.test_metabolicmodel.Testmfapy) ... ok\n",
      "test_update (tests.test_metabolicmodel.Testmfapy) ... ok\n",
      "test_set_all_isotopomers (tests.test_carbonsource.Testmfapy) ... ok\n",
      "test_set_each_isotopomer (tests.test_carbonsource.Testmfapy) ... ok\n",
      "test_add_gaussian_noise (tests.test_mdv.Testmfapy) ... ok\n",
      "test_check (tests.test_mdv.Testmfapy) ... ok\n",
      "test_generate_observed_mdv (tests.test_mdv.Testmfapy) ... ok\n",
      "test_get_data (tests.test_mdv.Testmfapy) ... ok\n",
      "test_get_fragments_for_mdv_calculation (tests.test_mdv.Testmfapy) ... ok\n",
      "test_get_number_of_measurement (tests.test_mdv.Testmfapy) ... ok\n",
      "test_has_data (tests.test_mdv.Testmfapy) ... ok\n",
      "test_set_data (tests.test_mdv.Testmfapy) ... ok\n",
      "test_set_mdv_for_comparison (tests.test_mdv.Testmfapy) ... ok\n",
      "test_set_mdvs_for_comparison (tests.test_mdv.Testmfapy) ... ok\n",
      "test_set_observed_fragments (tests.test_mdv.Testmfapy) ... ok\n",
      "test_set_std (tests.test_mdv.Testmfapy) ... ok\n",
      "test_set_unused_mdv_for_comparison (tests.test_mdv.Testmfapy) ... ok\n",
      "test_load_metabolic_model (tests.test_mfapyio.Testmfapy) ... ok\n",
      "test_load_metabolic_model_fragments (tests.test_mfapyio.Testmfapy) ... ok\n",
      "test_load_metabolic_model_metabolites (tests.test_mfapyio.Testmfapy) ... ok\n",
      "test_load_metabolic_model_reactions (tests.test_mfapyio.Testmfapy) ... ok\n",
      "test_load_metabolic_model_reversibles (tests.test_mfapyio.Testmfapy) ... ok\n",
      "\n",
      "----------------------------------------------------------------------\n",
      "Ran 38 tests in 1.036s\n",
      "\n",
      "OK\n"
     ]
    }
   ],
   "source": [
    "!cd ../mfapy && python setup.py test"
   ]
  },
  {
   "cell_type": "code",
   "execution_count": 17,
   "id": "30d15007-d5ea-46ac-ab28-1834d21d20ce",
   "metadata": {},
   "outputs": [],
   "source": [
    "!pip freeze > pip_freeze.txt"
   ]
  }
 ],
 "metadata": {
  "kernelspec": {
   "display_name": "Python 3 (ipykernel)",
   "language": "python",
   "name": "python3"
  },
  "language_info": {
   "codemirror_mode": {
    "name": "ipython",
    "version": 3
   },
   "file_extension": ".py",
   "mimetype": "text/x-python",
   "name": "python",
   "nbconvert_exporter": "python",
   "pygments_lexer": "ipython3",
   "version": "3.9.18"
  }
 },
 "nbformat": 4,
 "nbformat_minor": 5
}
