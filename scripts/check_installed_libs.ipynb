{
 "cells": [
  {
   "cell_type": "code",
   "execution_count": 1,
   "id": "3b76e454-3195-41a3-ad07-5b7939c91229",
   "metadata": {},
   "outputs": [
    {
     "data": {
      "text/plain": [
       "'2.0.2'"
      ]
     },
     "execution_count": 1,
     "metadata": {},
     "output_type": "execute_result"
    }
   ],
   "source": [
    "import numpy as np\n",
    "\n",
    "np.__version__"
   ]
  },
  {
   "cell_type": "code",
   "execution_count": 2,
   "id": "7b877594-15f9-4a06-acf7-b388b9a14e32",
   "metadata": {},
   "outputs": [
    {
     "data": {
      "text/plain": [
       "'2.2.3'"
      ]
     },
     "execution_count": 2,
     "metadata": {},
     "output_type": "execute_result"
    }
   ],
   "source": [
    "import pandas as pd\n",
    "\n",
    "pd.__version__"
   ]
  },
  {
   "cell_type": "code",
   "execution_count": 3,
   "id": "3b42ef3a-fcc5-43d4-a671-aaca584c56ae",
   "metadata": {},
   "outputs": [
    {
     "data": {
      "text/plain": [
       "'1.19.0'"
      ]
     },
     "execution_count": 3,
     "metadata": {},
     "output_type": "execute_result"
    }
   ],
   "source": [
    "import polars as pl\n",
    "\n",
    "pl.__version__"
   ]
  },
  {
   "cell_type": "code",
   "execution_count": 4,
   "id": "a63f8dec-fcf9-4641-a3fb-3f3228ca14bb",
   "metadata": {},
   "outputs": [
    {
     "data": {
      "text/plain": [
       "'1.15.1'"
      ]
     },
     "execution_count": 4,
     "metadata": {},
     "output_type": "execute_result"
    }
   ],
   "source": [
    "import scipy\n",
    "\n",
    "scipy.__version__"
   ]
  },
  {
   "cell_type": "code",
   "execution_count": 5,
   "id": "e00f5d07-66dd-427f-bb30-62796a6a8515",
   "metadata": {},
   "outputs": [
    {
     "data": {
      "text/plain": [
       "'0.14.4'"
      ]
     },
     "execution_count": 5,
     "metadata": {},
     "output_type": "execute_result"
    }
   ],
   "source": [
    "import statsmodels\n",
    "\n",
    "statsmodels.__version__"
   ]
  },
  {
   "cell_type": "code",
   "execution_count": 6,
   "id": "0e215752-8162-44c7-b0a5-f20ad1510490",
   "metadata": {},
   "outputs": [
    {
     "data": {
      "text/plain": [
       "'3.10.0'"
      ]
     },
     "execution_count": 6,
     "metadata": {},
     "output_type": "execute_result"
    }
   ],
   "source": [
    "import matplotlib\n",
    "\n",
    "%matplotlib inline\n",
    "\n",
    "matplotlib.__version__"
   ]
  },
  {
   "cell_type": "code",
   "execution_count": 7,
   "id": "49aeb209-ac82-4480-be25-f2a420e9b458",
   "metadata": {},
   "outputs": [
    {
     "data": {
      "text/plain": [
       "'0.13.2'"
      ]
     },
     "execution_count": 7,
     "metadata": {},
     "output_type": "execute_result"
    }
   ],
   "source": [
    "import seaborn as sns\n",
    "\n",
    "sns.__version__"
   ]
  },
  {
   "cell_type": "code",
   "execution_count": 8,
   "id": "5240df9c-36ef-4050-9333-eada75c99755",
   "metadata": {},
   "outputs": [
    {
     "data": {
      "text/plain": [
       "'0.7.1'"
      ]
     },
     "execution_count": 8,
     "metadata": {},
     "output_type": "execute_result"
    }
   ],
   "source": [
    "import statannotations\n",
    "\n",
    "statannotations.__version__"
   ]
  },
  {
   "cell_type": "code",
   "execution_count": 9,
   "id": "266cdc28-5260-45c4-a983-d2fb5152607d",
   "metadata": {},
   "outputs": [
    {
     "data": {
      "text/plain": [
       "'2.32.3'"
      ]
     },
     "execution_count": 9,
     "metadata": {},
     "output_type": "execute_result"
    }
   ],
   "source": [
    "import requests\n",
    "\n",
    "requests.__version__"
   ]
  },
  {
   "cell_type": "code",
   "execution_count": 10,
   "id": "e1fd78a6-c309-419f-9470-efad3fd63f1e",
   "metadata": {},
   "outputs": [
    {
     "data": {
      "text/plain": [
       "'1.6.1'"
      ]
     },
     "execution_count": 10,
     "metadata": {},
     "output_type": "execute_result"
    }
   ],
   "source": [
    "import sklearn\n",
    "\n",
    "sklearn.__version__"
   ]
  },
  {
   "cell_type": "code",
   "execution_count": 11,
   "id": "ff81abb6-224c-4fe8-8a6d-730b23039640",
   "metadata": {},
   "outputs": [
    {
     "data": {
      "text/plain": [
       "'3.1.5'"
      ]
     },
     "execution_count": 11,
     "metadata": {},
     "output_type": "execute_result"
    }
   ],
   "source": [
    "import openpyxl\n",
    "\n",
    "openpyxl.__version__"
   ]
  },
  {
   "cell_type": "code",
   "execution_count": 12,
   "id": "1f8ca1b2-b0b1-4b53-b05a-979835f2b88e",
   "metadata": {},
   "outputs": [
    {
     "data": {
      "text/plain": [
       "'2024.09.4'"
      ]
     },
     "execution_count": 12,
     "metadata": {},
     "output_type": "execute_result"
    }
   ],
   "source": [
    "import rdkit\n",
    "\n",
    "rdkit.__version__"
   ]
  },
  {
   "cell_type": "code",
   "execution_count": 13,
   "id": "badc40e2-25eb-4535-9a9f-eea77dbe053f",
   "metadata": {},
   "outputs": [
    {
     "data": {
      "text/plain": [
       "'1.84'"
      ]
     },
     "execution_count": 13,
     "metadata": {},
     "output_type": "execute_result"
    }
   ],
   "source": [
    "import Bio\n",
    "\n",
    "Bio.__version__"
   ]
  },
  {
   "cell_type": "code",
   "execution_count": 14,
   "id": "c6ae35ef-e8e7-4cae-8de8-d37673555b62",
   "metadata": {},
   "outputs": [
    {
     "data": {
      "text/plain": [
       "'0.11.3'"
      ]
     },
     "execution_count": 14,
     "metadata": {},
     "output_type": "execute_result"
    }
   ],
   "source": [
    "import anndata as ad\n",
    "\n",
    "ad.__version__"
   ]
  },
  {
   "cell_type": "code",
   "execution_count": 15,
   "id": "ab8a507d-e57a-4b39-9540-eafb87d3ecd8",
   "metadata": {},
   "outputs": [
    {
     "data": {
      "text/plain": [
       "'1.10.4'"
      ]
     },
     "execution_count": 15,
     "metadata": {},
     "output_type": "execute_result"
    }
   ],
   "source": [
    "import scanpy as sc\n",
    "\n",
    "sc.__version__"
   ]
  },
  {
   "cell_type": "code",
   "execution_count": 16,
   "id": "ba5541a1-49fa-4e9a-bced-9a0438eb0616",
   "metadata": {},
   "outputs": [
    {
     "name": "stdout",
     "output_type": "stream",
     "text": [
      "/work/mfapy/mfapy/mdv.py:89: SyntaxWarning: invalid escape sequence '\\F'\n",
      "  \"\"\"Checker whether the MdvData instance has data of [number] th isotopomer in the MDV of [fragment].\n",
      "/work/mfapy/mfapy/mdv.py:110: SyntaxWarning: invalid escape sequence '\\F'\n",
      "  \"\"\"Setter of [number] th isotopomer in the MDV of [fragment].\n",
      "/work/mfapy/mfapy/mdv.py:729: SyntaxWarning: invalid escape sequence '\\F'\n",
      "  \"\"\"Checker whether the MdvData instance has data of [number] th isotopomer in the MDV of [fragment] at [time].\n",
      "/work/mfapy/mfapy/mdv.py:752: SyntaxWarning: invalid escape sequence '\\F'\n",
      "  \"\"\"Setter of [number] th isotopomer in the MDV of [fragment] at [time].\n",
      "/work/mfapy/mfapy/metabolicmodel.py:3704: SyntaxWarning: invalid escape sequence '\\)'\n",
      "  ids = re.sub(\"\\)\\s*\\(\",\")(\",ids)\n",
      "/work/mfapy/mfapy/metabolicmodel.py:3705: SyntaxWarning: invalid escape sequence '\\('\n",
      "  ids = re.sub(\"^\\(\",\"((\",ids)\n",
      "/work/mfapy/mfapy/metabolicmodel.py:3706: SyntaxWarning: invalid escape sequence '\\)'\n",
      "  ids = re.sub(\"\\)\\(\",\"))((\",ids)\n",
      "/work/mfapy/mfapy/metabolicmodel.py:3707: SyntaxWarning: invalid escape sequence '\\)'\n",
      "  ids = re.sub(\"\\)$\",\"))\",ids)\n",
      "/work/mfapy/mfapy/metabolicmodel.py:3710: SyntaxWarning: invalid escape sequence '\\('\n",
      "  for idtemp in re.findall(\"\\(\\(.*?\\)\\)\", ids):\n",
      "/work/mfapy/mfapy/metabolicmodel.py:3711: SyntaxWarning: invalid escape sequence '\\('\n",
      "  idtemp = re.sub(\"\\(\\(\", \"(\", idtemp)\n",
      "/work/mfapy/mfapy/metabolicmodel.py:3712: SyntaxWarning: invalid escape sequence '\\)'\n",
      "  idtemp = re.sub(\"\\)\\)\", \")\", idtemp)\n",
      "/work/mfapy/mfapy/metabolicmodel.py:3756: SyntaxWarning: invalid escape sequence '\\d'\n",
      "  memo_mod=re.sub('label \"\\d+(\\.\\d+)?\"',\"label \"+'''\"'''+templine+'''\"''',memo)\n",
      "......................................\n",
      "----------------------------------------------------------------------\n",
      "Ran 38 tests in 1.951s\n",
      "\n",
      "OK\n"
     ]
    }
   ],
   "source": [
    "!cd ../mfapy && python -m unittest"
   ]
  }
 ],
 "metadata": {
  "kernelspec": {
   "display_name": "Python 3 (ipykernel)",
   "language": "python",
   "name": "python3"
  },
  "language_info": {
   "codemirror_mode": {
    "name": "ipython",
    "version": 3
   },
   "file_extension": ".py",
   "mimetype": "text/x-python",
   "name": "python",
   "nbconvert_exporter": "python",
   "pygments_lexer": "ipython3",
   "version": "3.12.8"
  }
 },
 "nbformat": 4,
 "nbformat_minor": 5
}
